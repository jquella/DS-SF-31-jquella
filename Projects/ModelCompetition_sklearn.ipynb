{
 "cells": [
  {
   "cell_type": "code",
   "execution_count": 1,
   "metadata": {
    "collapsed": true
   },
   "outputs": [],
   "source": [
    "#Imports and set pandas options\n",
    "import pandas as pd\n",
    "import numpy as np\n",
    "import matplotlib.pyplot as plt\n",
    "%matplotlib inline\n",
    "import seaborn as sb\n",
    "pd.set_option(\"max.columns\", 100)\n",
    "pd.set_option(\"max.colwidth\", 100)\n",
    "\n",
    "# Load in training data.\n",
    "# Loan_status column is the target variable. Remember to drop it from df.\n",
    "df = pd.read_csv(\"loan_training_data.csv\").sample(frac=.25, random_state=1234)\n",
    "df.reset_index(drop=True, inplace=True)\n",
    "\n",
    "#Load in data dictionary\n",
    "# Loan S\n",
    "data_dict = pd.read_csv(\"the_data_dictionary.csv\")"
   ]
  },
  {
   "cell_type": "code",
   "execution_count": 2,
   "metadata": {
    "collapsed": true
   },
   "outputs": [],
   "source": [
    "dummy_term = pd.get_dummies(df['term'], prefix='term')\n",
    "dummy_grade = pd.get_dummies(df['grade'], prefix='grade')\n",
    "dummy_emp_length = pd.get_dummies(df['emp_length'], prefix='emp_length')\n",
    "dummy_home_ownership = pd.get_dummies(df['home_ownership'], prefix='home_ownership')\n",
    "dummy_verification_status = pd.get_dummies(df['verification_status'], prefix='verification_status')\n",
    "dummy_purpose = pd.get_dummies(df['purpose'], prefix='purpose')\n",
    "cols_to_keep = ['loan_amnt', \n",
    "                'installment', \n",
    "                'annual_inc', \n",
    "                'dti', \n",
    "                'delinq_2yrs', \n",
    "                'open_acc', \n",
    "                'revol_bal', \n",
    "                'total_acc',\n",
    "                'tot_coll_amt',\n",
    "                'tot_cur_bal',\n",
    "                'total_rev_hi_lim',\n",
    "                'avg_cur_bal',\n",
    "                'bc_util',\n",
    "                'mort_acc',\n",
    "                'num_accts_ever_120_pd',\n",
    "                'num_actv_bc_tl',\n",
    "                'num_actv_rev_tl',\n",
    "                'num_bc_sats',\n",
    "                'num_bc_tl',\n",
    "                'num_rev_tl_bal_gt_0',\n",
    "                'num_tl_90g_dpd_24m',\n",
    "                'num_tl_op_past_12m',\n",
    "                'total_bal_ex_mort',\n",
    "                'total_bc_limit',\n",
    "                'total_il_high_credit_limit',\n",
    "                'fico_average']\n",
    "data = df[cols_to_keep].join(dummy_term).join(dummy_grade).join(dummy_emp_length).join(dummy_home_ownership).join(dummy_verification_status).join(dummy_purpose)\n",
    "X_all = df.drop(\"loan_status\", axis=1)\n",
    "y_all = df.loan_status\n",
    "X_all = data._get_numeric_data()"
   ]
  },
  {
   "cell_type": "code",
   "execution_count": 4,
   "metadata": {
    "collapsed": false
   },
   "outputs": [
    {
     "name": "stderr",
     "output_type": "stream",
     "text": [
      "C:\\Users\\jquella\\lib\\site-packages\\sklearn\\cross_validation.py:44: DeprecationWarning: This module was deprecated in version 0.18 in favor of the model_selection module into which all the refactored classes and functions are moved. Also note that the interface of the new CV iterators are different from that of this module. This module will be removed in 0.20.\n",
      "  \"This module will be removed in 0.20.\", DeprecationWarning)\n"
     ]
    }
   ],
   "source": [
    "from sklearn.neighbors import KNeighborsClassifier\n",
    "from sklearn.cross_validation import train_test_split, cross_val_score\n",
    "from sklearn.preprocessing import StandardScaler, MinMaxScaler\n",
    "from sklearn.linear_model import LogisticRegression"
   ]
  },
  {
   "cell_type": "code",
   "execution_count": 6,
   "metadata": {
    "collapsed": false
   },
   "outputs": [],
   "source": [
    "scale = StandardScaler()\n",
    "Xs = scale.fit_transform(X_all)"
   ]
  },
  {
   "cell_type": "code",
   "execution_count": 7,
   "metadata": {
    "collapsed": false
   },
   "outputs": [
    {
     "name": "stdout",
     "output_type": "stream",
     "text": [
      "Training set has 20000 samples.\n",
      "Testing set has 5000 samples.\n"
     ]
    }
   ],
   "source": [
    "#  Shuffle and split the dataset into the number of training and testing points above\n",
    "X_train, X_test, y_train, y_test= train_test_split(Xs, y_all, train_size=0.8, random_state=1)\n",
    "# Show the results of the split\n",
    "print \"Training set has {} samples.\".format(X_train.shape[0])\n",
    "print \"Testing set has {} samples.\".format(X_test.shape[0])"
   ]
  },
  {
   "cell_type": "code",
   "execution_count": 8,
   "metadata": {
    "collapsed": true
   },
   "outputs": [],
   "source": [
    "from sklearn.metrics import confusion_matrix\n",
    "#Profit calculator\n",
    "def profit_calculator(y_true, y_preds):\n",
    "    cm = confusion_matrix(y_true, y_preds)\n",
    "    tp = cm[1,1]\n",
    "    fp = cm[0,1]\n",
    "    return 100*tp - 1000*fp"
   ]
  },
  {
   "cell_type": "code",
   "execution_count": 27,
   "metadata": {
    "collapsed": false
   },
   "outputs": [
    {
     "data": {
      "text/plain": [
       "-603200"
      ]
     },
     "execution_count": 27,
     "metadata": {},
     "output_type": "execute_result"
    }
   ],
   "source": [
    "# X_train, X_test, y_train, y_test = train_test_split(X_all,y_all)\n",
    "# def predictor(model, X_train, X_test, y_train, thres=.5):\n",
    "#     #Initialize Model\n",
    "#     mod = model()\n",
    "#     #Train model on training data\n",
    "#     mod.fit(X_train, y_train)\n",
    "#     #Make predictions on the testing set (X_test)\n",
    "#     preds = mod.predict_proba(X_test)\n",
    "#     #preds >= thres returns boolean values\n",
    "#     #np.where replaces True with 1 and False with 0\n",
    "#     threshold_adjusted_preds = np.where(preds>=thres, 1, 0)\n",
    "#     #Return the 2nd column. The 2nd columns is probabiltity of success.\n",
    "#     #Returns an array of 1s and 0s\n",
    "#     return threshold_adjusted_preds[:,1]\n",
    "# thres_preds = predictor(GradientBoostingClassifier, X_train, X_test, y_train)\n",
    "# profit_calculator(y_test, thres_preds)"
   ]
  },
  {
   "cell_type": "code",
   "execution_count": 15,
   "metadata": {
    "collapsed": true
   },
   "outputs": [],
   "source": [
    "# from sklearn.linear_model import LogisticRegression\n",
    "# clf = LogisticRegression(random_state=42)\n",
    "# clf = clf.fit(X_train, y_train)"
   ]
  },
  {
   "cell_type": "code",
   "execution_count": 16,
   "metadata": {
    "collapsed": false
   },
   "outputs": [
    {
     "data": {
      "text/plain": [
       "0.65165809291436805"
      ]
     },
     "execution_count": 16,
     "metadata": {},
     "output_type": "execute_result"
    }
   ],
   "source": [
    "# from sklearn import metrics\n",
    "# pred_probs = clf.predict_proba(X_test)[:,1]\n",
    "# fpr, tpr, thres = metrics.roc_curve(y_test, pred_probs)\n",
    "# metrics.roc_auc_score(y_test, pred_probs)"
   ]
  },
  {
   "cell_type": "code",
   "execution_count": 17,
   "metadata": {
    "collapsed": false
   },
   "outputs": [
    {
     "data": {
      "image/png": "[encoded data removed]",
      "text/plain": [
       "<matplotlib.figure.Figure at 0x7767a70>"
      ]
     },
     "metadata": {},
     "output_type": "display_data"
    }
   ],
   "source": [
    "# import matplotlib.pyplot as plt\n",
    "# %matplotlib inline \n",
    "\n",
    "# plt.plot(fpr, tpr)\n",
    "# plt.plot([0,1], [0,1], \"--\")\n",
    "# plt.xlabel(\"False Positive Rate\")\n",
    "# plt.ylabel(\"True Positive Rate\")\n",
    "# plt.show()"
   ]
  },
  {
   "cell_type": "code",
   "execution_count": 26,
   "metadata": {
    "collapsed": true
   },
   "outputs": [],
   "source": [
    "from sklearn.ensemble import GradientBoostingClassifier\n",
    "clf2 = GradientBoostingClassifier(random_state=42)\n",
    "clf2 = clf2.fit(X_train, y_train)"
   ]
  },
  {
   "cell_type": "code",
   "execution_count": 20,
   "metadata": {
    "collapsed": false
   },
   "outputs": [
    {
     "data": {
      "text/plain": [
       "0.71308428719666339"
      ]
     },
     "execution_count": 20,
     "metadata": {},
     "output_type": "execute_result"
    }
   ],
   "source": [
    "pred_probs = clf2.predict_proba(X_test)[:,1]\n",
    "fpr, tpr, thres = metrics.roc_curve(y_test, pred_probs)\n",
    "metrics.roc_auc_score(y_test, pred_probs)"
   ]
  },
  {
   "cell_type": "code",
   "execution_count": 21,
   "metadata": {
    "collapsed": false
   },
   "outputs": [
    {
     "data": {
      "image/png": "[encoded data removed]",
      "text/plain": [
       "<matplotlib.figure.Figure at 0xc5b37b0>"
      ]
     },
     "metadata": {},
     "output_type": "display_data"
    }
   ],
   "source": [
    "plt.plot(fpr, tpr)\n",
    "plt.plot([0,1], [0,1], \"--\")\n",
    "plt.xlabel(\"False Positive Rate\")\n",
    "plt.ylabel(\"True Positive Rate\")\n",
    "plt.show()"
   ]
  },
  {
   "cell_type": "code",
   "execution_count": 41,
   "metadata": {
    "collapsed": false
   },
   "outputs": [
    {
     "data": {
      "text/plain": [
       "59100"
      ]
     },
     "execution_count": 41,
     "metadata": {},
     "output_type": "execute_result"
    }
   ],
   "source": [
    "preds = clf2.predict_proba(X_test)\n",
    "threshold_adjusted_preds = np.where(preds>=0.9, 1, 0)\n",
    "profit_calculator(y_test, threshold_adjusted_preds[:,1])"
   ]
  },
  {
   "cell_type": "code",
   "execution_count": null,
   "metadata": {
    "collapsed": false
   },
   "outputs": [],
   "source": [
    "# from sklearn.grid_search import GridSearchCV\n",
    "# from sklearn.metrics import make_scorer\n",
    "\n",
    "# # Create the parameters list you wish to tune\n",
    "# parameters = [{'max_depth':[2,3,4]},{'n_estimators':[20,50,75,100,150]},{'learning_rate':[.02,.03,.05,.1,.15]}]\n",
    "\n",
    "# # Initialize the classifier\n",
    "# clf_grid = GradientBoostingClassifier(random_state=42)\n",
    "\n",
    "# # Perform grid search on the classifier using the roc_auc as the scoring method\n",
    "# grid_obj = GridSearchCV(clf_grid, parameters, scoring='roc_auc',cv=5)\n",
    "\n",
    "# # Fit the grid search object to the training data and find the optimal parameters\n",
    "# grid_obj = grid_obj.fit(X_train, y_train)\n",
    "\n",
    "# # Get the estimator\n",
    "# clf_grid = grid_obj_best_estimator_"
   ]
  },
  {
   "cell_type": "code",
   "execution_count": null,
   "metadata": {
    "collapsed": true
   },
   "outputs": [],
   "source": [
    "# pred_probs = clf_grid.predict_proba(X_test)[:,1]\n",
    "# fpr, tpr, thres = metrics.roc_curve(y_test, pred_probs)\n",
    "# metrics.roc_auc_score(y_test, pred_probs)\n",
    "\n",
    "# plt.plot(fpr, tpr)\n",
    "# plt.plot([0,1], [0,1], \"--\")\n",
    "# plt.xlabel(\"False Positive Rate\")\n",
    "# plt.ylabel(\"True Positive Rate\")\n",
    "# plt.show()"
   ]
  },
  {
   "cell_type": "code",
   "execution_count": 49,
   "metadata": {
    "collapsed": true
   },
   "outputs": [],
   "source": [
    "dft = pd.read_csv(\"loan_testing_data.csv\").sample(frac=.2, random_state=1234)\n",
    "dft.reset_index(drop=True, inplace=True)"
   ]
  },
  {
   "cell_type": "code",
   "execution_count": 50,
   "metadata": {
    "collapsed": true
   },
   "outputs": [],
   "source": [
    "dummy_term = pd.get_dummies(dft['term'], prefix='term')\n",
    "dummy_grade = pd.get_dummies(dft['grade'], prefix='grade')\n",
    "dummy_emp_length = pd.get_dummies(dft['emp_length'], prefix='emp_length')\n",
    "dummy_home_ownership = pd.get_dummies(dft['home_ownership'], prefix='home_ownership')\n",
    "dummy_verification_status = pd.get_dummies(dft['verification_status'], prefix='verification_status')\n",
    "dummy_purpose = pd.get_dummies(dft['purpose'], prefix='purpose')\n",
    "cols_to_keep = ['loan_amnt', \n",
    "                'installment', \n",
    "                'annual_inc', \n",
    "                'dti', \n",
    "                'delinq_2yrs', \n",
    "                'open_acc', \n",
    "                'revol_bal', \n",
    "                'total_acc',\n",
    "                'tot_coll_amt',\n",
    "                'tot_cur_bal',\n",
    "                'total_rev_hi_lim',\n",
    "                'avg_cur_bal',\n",
    "                'bc_util',\n",
    "                'mort_acc',\n",
    "                'num_accts_ever_120_pd',\n",
    "                'num_actv_bc_tl',\n",
    "                'num_actv_rev_tl',\n",
    "                'num_bc_sats',\n",
    "                'num_bc_tl',\n",
    "                'num_rev_tl_bal_gt_0',\n",
    "                'num_tl_90g_dpd_24m',\n",
    "                'num_tl_op_past_12m',\n",
    "                'total_bal_ex_mort',\n",
    "                'total_bc_limit',\n",
    "                'total_il_high_credit_limit',\n",
    "                'fico_average']\n",
    "data_test = dft[cols_to_keep].join(dummy_term).join(dummy_grade).join(dummy_emp_length).join(dummy_home_ownership).join(dummy_verification_status).join(dummy_purpose)\n",
    "X_all_test = dft.drop(\"loan_status\", axis=1)\n",
    "y_all_test = dft.loan_status\n",
    "X_all_test = data_test._get_numeric_data()"
   ]
  },
  {
   "cell_type": "code",
   "execution_count": 51,
   "metadata": {
    "collapsed": true
   },
   "outputs": [],
   "source": [
    "scale = StandardScaler()\n",
    "Xs_test = scale.fit_transform(X_all_test)"
   ]
  },
  {
   "cell_type": "code",
   "execution_count": null,
   "metadata": {
    "collapsed": true
   },
   "outputs": [],
   "source": [
    "from sklearn.ensemble import GradientBoostingClassifier\n",
    "clf2 = GradientBoostingClassifier(random_state=42)\n",
    "clf2 = clf2.fit(Xs_test, y_all_test)"
   ]
  },
  {
   "cell_type": "code",
   "execution_count": 48,
   "metadata": {
    "collapsed": false
   },
   "outputs": [
    {
     "data": {
      "text/plain": [
       "140100"
      ]
     },
     "execution_count": 48,
     "metadata": {},
     "output_type": "execute_result"
    }
   ],
   "source": [
    "preds = clf2.predict_proba(Xs_test)\n",
    "threshold_adjusted_preds = np.where(preds>=0.9, 1, 0)\n",
    "profit_calculator(y_all_test, threshold_adjusted_preds[:,1])"
   ]
  },
  {
   "cell_type": "code",
   "execution_count": null,
   "metadata": {
    "collapsed": true
   },
   "outputs": [],
   "source": []
  }
 ],
 "metadata": {
  "kernelspec": {
   "display_name": "Python 2",
   "language": "python",
   "name": "python2"
  },
  "language_info": {
   "codemirror_mode": {
    "name": "ipython",
    "version": 2
   },
   "file_extension": ".py",
   "mimetype": "text/x-python",
   "name": "python",
   "nbconvert_exporter": "python",
   "pygments_lexer": "ipython2",
   "version": "2.7.13"
  }
 },
 "nbformat": 4,
 "nbformat_minor": 2
}
